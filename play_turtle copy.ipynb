{
 "cells": [
  {
   "cell_type": "code",
   "execution_count": null,
   "metadata": {
    "collapsed": true
   },
   "outputs": [],
   "source": [
    "\n",
    "import turtle\n",
    "\n",
    "    \n",
    "def draw_square():\n",
    "\n",
    "    #create the turtle\n",
    "    D = turtle.Turtle()\n",
    "    D.shape(\"turtle\")\n",
    "    D.color(\"blue\")\n",
    "    D.speed(100)\n",
    "    \n",
    "    for count in range(0,4):\n",
    "            D.forward(100)\n",
    "            D.right(90)\n",
    "\n",
    "    # Create a window Screen in light yellow\n",
    "    # Call turtle object (noun)\n",
    "    # Tell the object to make a Screen (verb)\n",
    "\n",
    "    # Call turtle object (noun)\n",
    "    # Tell the object to do/make a Turtle (verb)\n",
    "\n",
    "\n",
    "def draw_shapes():\n",
    "    win = turtle.Screen()\n",
    "    win.bgcolor(\"lightyellow\")\n",
    "    draw_square()\n",
    "    win.exitonclick()\n",
    "\n",
    "draw_shapes()\n"
   ]
  },
  {
   "cell_type": "code",
   "execution_count": 1,
   "metadata": {
    "collapsed": true
   },
   "outputs": [],
   "source": [
    "import turtle\n",
    "\n",
    "\n",
    "def draw_square():\n",
    "\n",
    "    #create the turtle\n",
    "    ian_the_turtle = turtle.Turtle()\n",
    "    ian_the_turtle.shape(\"turtle\")\n",
    "    ian_the_turtle.color(\"blue\")\n",
    "    ian_the_turtle.speed(100)\n",
    "    \n",
    "\n",
    "    #draw a square\n",
    "    for totalSquares in range(0,36):\n",
    "        for count in range(0,4):\n",
    "            ian_the_turtle.forward(100)\n",
    "            ian_the_turtle.right(90)\n",
    "        ian_the_turtle.right(10)\n",
    "\n",
    "def draw_circle():\n",
    "    brandon_the_turtle = turtle.Turtle()\n",
    "    brandon_the_turtle.shape(\"turtle\")\n",
    "    brandon_the_turtle.color(\"green\")\n",
    "    brandon_the_turtle.circle(100)\n",
    "\n",
    "def draw_triangle():\n",
    "    ashley_the_turtle = turtle.Turtle()\n",
    "    ashley_the_turtle.shape(\"turtle\")\n",
    "    ashley_the_turtle.color(\"red\")\n",
    "    \n",
    "    for count in range(0,3):\n",
    "        ashley_the_turtle.forward(100)\n",
    "        ashley_the_turtle.right(120)\n",
    "    \n",
    "def draw_shapes():\n",
    "    window = turtle.Screen()\n",
    "    window.bgcolor(\"lightyellow\")\n",
    "    draw_square()\n",
    "    draw_circle()\n",
    "    draw_triangle()\n",
    "    window.exitonclick()\n",
    "\n",
    "draw_shapes()\n",
    "\n"
   ]
  },
  {
   "cell_type": "code",
   "execution_count": null,
   "metadata": {
    "collapsed": true
   },
   "outputs": [],
   "source": []
  }
 ],
 "metadata": {
  "kernelspec": {
   "display_name": "Python 3",
   "language": "python",
   "name": "python3"
  },
  "language_info": {
   "codemirror_mode": {
    "name": "ipython",
    "version": 3
   },
   "file_extension": ".py",
   "mimetype": "text/x-python",
   "name": "python",
   "nbconvert_exporter": "python",
   "pygments_lexer": "ipython3",
   "version": "3.6.1"
  }
 },
 "nbformat": 4,
 "nbformat_minor": 2
}
