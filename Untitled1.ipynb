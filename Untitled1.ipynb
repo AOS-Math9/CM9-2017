{
 "cells": [
  {
   "cell_type": "code",
   "execution_count": null,
   "metadata": {},
   "outputs": [],
   "source": [
    "import numpy as np\n",
    "import matplotlib.pyplot as plt\n",
    "\n",
    "plt.figure(1)\n",
    "plt.clf()\n",
    "plt.axis([-10, 10, -10, 10])\n",
    "\n",
    "# Define properties of the \"bouncing balls\"\n",
    "n = 10\n",
    "pos = (20 * np.random.sample(n*2) - 10).reshape(n, 2)\n",
    "vel = (0.3 * np.random.normal(size=n*2)).reshape(n, 2)\n",
    "sizes = 100 * np.random.sample(n) + 100\n",
    "\n",
    "# Colors where each row is (Red, Green, Blue, Alpha).  Each can go\n",
    "# from 0 to 1.  Alpha is the transparency.\n",
    "colors = np.random.sample([n, 4])\n",
    "\n",
    "# Draw all the circles and return an object ``circles`` that allows\n",
    "# manipulation of the plotted circles.\n",
    "circles = plt.scatter(pos[:,0], pos[:,1], marker='o', s=sizes, c=colors)\n",
    "\n",
    "for i in range(100):\n",
    "    pos = pos + vel\n",
    "    bounce = abs(pos) > 10      # Find balls that are outside walls\n",
    "    vel[bounce] = -vel[bounce]  # Bounce if outside the walls\n",
    "    circles.set_offsets(pos)    # Change the positions\n",
    "    plt.draw()\n",
    "    plt.show()"
   ]
  },
  {
   "cell_type": "code",
   "execution_count": null,
   "metadata": {
    "collapsed": true
   },
   "outputs": [],
   "source": []
  }
 ],
 "metadata": {
  "kernelspec": {
   "display_name": "Python 3",
   "language": "python",
   "name": "python3"
  },
  "language_info": {
   "codemirror_mode": {
    "name": "ipython",
    "version": 3
   },
   "file_extension": ".py",
   "mimetype": "text/x-python",
   "name": "python",
   "nbconvert_exporter": "python",
   "pygments_lexer": "ipython3",
   "version": "3.6.1"
  }
 },
 "nbformat": 4,
 "nbformat_minor": 2
}
